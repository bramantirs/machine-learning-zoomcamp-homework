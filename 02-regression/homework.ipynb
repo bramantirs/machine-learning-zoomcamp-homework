{
 "cells": [
  {
   "cell_type": "code",
   "execution_count": 21,
   "id": "bfb09b65",
   "metadata": {},
   "outputs": [],
   "source": [
    "import pandas as pd\n",
    "import numpy as np\n",
    "import seaborn as sns"
   ]
  },
  {
   "cell_type": "code",
   "execution_count": 26,
   "id": "372d7ebd",
   "metadata": {},
   "outputs": [],
   "source": [
    "data = \"https://raw.githubusercontent.com/alexeygrigorev/datasets/master/car_fuel_efficiency.csv\"\n",
    "df = pd.read_csv(data)"
   ]
  },
  {
   "cell_type": "code",
   "execution_count": 20,
   "id": "b41829b2",
   "metadata": {},
   "outputs": [
    {
     "data": {
      "text/html": [
       "<div>\n",
       "<style scoped>\n",
       "    .dataframe tbody tr th:only-of-type {\n",
       "        vertical-align: middle;\n",
       "    }\n",
       "\n",
       "    .dataframe tbody tr th {\n",
       "        vertical-align: top;\n",
       "    }\n",
       "\n",
       "    .dataframe thead th {\n",
       "        text-align: right;\n",
       "    }\n",
       "</style>\n",
       "<table border=\"1\" class=\"dataframe\">\n",
       "  <thead>\n",
       "    <tr style=\"text-align: right;\">\n",
       "      <th></th>\n",
       "      <th>engine_displacement</th>\n",
       "      <th>horsepower</th>\n",
       "      <th>vehicle_weight</th>\n",
       "      <th>model_year</th>\n",
       "      <th>fuel_efficiency_mpg</th>\n",
       "    </tr>\n",
       "  </thead>\n",
       "  <tbody>\n",
       "    <tr>\n",
       "      <th>0</th>\n",
       "      <td>170</td>\n",
       "      <td>159.0</td>\n",
       "      <td>3413.433759</td>\n",
       "      <td>2003</td>\n",
       "      <td>13.231729</td>\n",
       "    </tr>\n",
       "    <tr>\n",
       "      <th>1</th>\n",
       "      <td>130</td>\n",
       "      <td>97.0</td>\n",
       "      <td>3149.664934</td>\n",
       "      <td>2007</td>\n",
       "      <td>13.688217</td>\n",
       "    </tr>\n",
       "    <tr>\n",
       "      <th>2</th>\n",
       "      <td>170</td>\n",
       "      <td>78.0</td>\n",
       "      <td>3079.038997</td>\n",
       "      <td>2018</td>\n",
       "      <td>14.246341</td>\n",
       "    </tr>\n",
       "    <tr>\n",
       "      <th>3</th>\n",
       "      <td>220</td>\n",
       "      <td>NaN</td>\n",
       "      <td>2542.392402</td>\n",
       "      <td>2009</td>\n",
       "      <td>16.912736</td>\n",
       "    </tr>\n",
       "    <tr>\n",
       "      <th>4</th>\n",
       "      <td>210</td>\n",
       "      <td>140.0</td>\n",
       "      <td>3460.870990</td>\n",
       "      <td>2009</td>\n",
       "      <td>12.488369</td>\n",
       "    </tr>\n",
       "  </tbody>\n",
       "</table>\n",
       "</div>"
      ],
      "text/plain": [
       "   engine_displacement  horsepower  vehicle_weight  model_year  \\\n",
       "0                  170       159.0     3413.433759        2003   \n",
       "1                  130        97.0     3149.664934        2007   \n",
       "2                  170        78.0     3079.038997        2018   \n",
       "3                  220         NaN     2542.392402        2009   \n",
       "4                  210       140.0     3460.870990        2009   \n",
       "\n",
       "   fuel_efficiency_mpg  \n",
       "0            13.231729  \n",
       "1            13.688217  \n",
       "2            14.246341  \n",
       "3            16.912736  \n",
       "4            12.488369  "
      ]
     },
     "execution_count": 20,
     "metadata": {},
     "output_type": "execute_result"
    }
   ],
   "source": [
    "df = df[[\n",
    "    'engine_displacement',\n",
    "    'horsepower',\n",
    "    'vehicle_weight',\n",
    "    'model_year',\n",
    "    'fuel_efficiency_mpg'\n",
    "]]\n",
    "df.head()"
   ]
  },
  {
   "cell_type": "markdown",
   "id": "f500dcf5",
   "metadata": {},
   "source": [
    "EDA\n",
    "###### Look at the fuel_efficiency_mpg variable. Does it have a long tail?"
   ]
  },
  {
   "cell_type": "code",
   "execution_count": 24,
   "id": "f1e5d267",
   "metadata": {},
   "outputs": [
    {
     "data": {
      "text/plain": [
       "<Axes: xlabel='fuel_efficiency_mpg', ylabel='Count'>"
      ]
     },
     "execution_count": 24,
     "metadata": {},
     "output_type": "execute_result"
    },
    {
     "data": {
      "image/png": "[encoded data removed]",
      "text/plain": [
       "<Figure size 640x480 with 1 Axes>"
      ]
     },
     "metadata": {},
     "output_type": "display_data"
    }
   ],
   "source": [
    "sns.histplot(df.fuel_efficiency_mpg, bins=50)"
   ]
  },
  {
   "cell_type": "markdown",
   "id": "b686e654",
   "metadata": {},
   "source": [
    "No, fuel_efficiency_mpg variable doesnt have a long tail\n"
   ]
  },
  {
   "cell_type": "markdown",
   "id": "58393f85",
   "metadata": {},
   "source": [
    "Question 1\n",
    "\n",
    "There's one column with missing values. What is it?\n",
    "\n",
    "    'engine_displacement'\n",
    "    'horsepower'\n",
    "    'vehicle_weight'\n",
    "    'model_year'\n"
   ]
  },
  {
   "cell_type": "code",
   "execution_count": 25,
   "id": "919c10b8",
   "metadata": {},
   "outputs": [
    {
     "data": {
      "text/plain": [
       "engine_displacement      0\n",
       "horsepower             708\n",
       "vehicle_weight           0\n",
       "model_year               0\n",
       "fuel_efficiency_mpg      0\n",
       "dtype: int64"
      ]
     },
     "execution_count": 25,
     "metadata": {},
     "output_type": "execute_result"
    }
   ],
   "source": [
    "df.isnull().sum()"
   ]
  },
  {
   "cell_type": "markdown",
   "id": "e64881fb",
   "metadata": {},
   "source": [
    "Question 2\n",
    "\n",
    "What's the median (50% percentile) for variable 'horsepower'?"
   ]
  },
  {
   "cell_type": "code",
   "execution_count": 28,
   "id": "4641f89b",
   "metadata": {},
   "outputs": [
    {
     "data": {
      "text/plain": [
       "count    8996.0\n",
       "mean      149.7\n",
       "std        29.9\n",
       "min        37.0\n",
       "25%       130.0\n",
       "50%       149.0\n",
       "75%       170.0\n",
       "max       271.0\n",
       "Name: horsepower, dtype: float64"
      ]
     },
     "execution_count": 28,
     "metadata": {},
     "output_type": "execute_result"
    }
   ],
   "source": [
    "df['horsepower'].describe().round(1)"
   ]
  },
  {
   "cell_type": "markdown",
   "id": "08a46da8",
   "metadata": {},
   "source": [
    "Prepare and split the dataset\n",
    "\n",
    "    Shuffle the dataset (the filtered one you created above), use seed 42.\n",
    "    Split your data in train/val/test sets, with 60%/20%/20% distribution."
   ]
  },
  {
   "cell_type": "code",
   "execution_count": 43,
   "id": "62eaae94",
   "metadata": {},
   "outputs": [
    {
     "data": {
      "text/plain": [
       "9704"
      ]
     },
     "execution_count": 43,
     "metadata": {},
     "output_type": "execute_result"
    }
   ],
   "source": [
    "n = len(df)\n",
    "n"
   ]
  },
  {
   "cell_type": "code",
   "execution_count": 44,
   "id": "cf7afb7c",
   "metadata": {},
   "outputs": [
    {
     "data": {
      "text/plain": [
       "array([   0,    1,    2, ..., 9701, 9702, 9703], shape=(9704,))"
      ]
     },
     "execution_count": 44,
     "metadata": {},
     "output_type": "execute_result"
    }
   ],
   "source": [
    "indices = np.arange(n)\n",
    "indices"
   ]
  },
  {
   "cell_type": "code",
   "execution_count": 45,
   "id": "3c426151",
   "metadata": {},
   "outputs": [
    {
     "data": {
      "text/plain": [
       "array([ 483, 7506, 8795, ..., 5390,  860, 7270], shape=(9704,))"
      ]
     },
     "execution_count": 45,
     "metadata": {},
     "output_type": "execute_result"
    }
   ],
   "source": [
    "np.random.seed(42)\n",
    "np.random.shuffle(indices)\n",
    "indices"
   ]
  },
  {
   "cell_type": "markdown",
   "id": "4b470247",
   "metadata": {},
   "source": [
    "shuffled"
   ]
  },
  {
   "cell_type": "code",
   "execution_count": 46,
   "id": "cda5b86d",
   "metadata": {},
   "outputs": [
    {
     "data": {
      "text/plain": [
       "(9704, 9704)"
      ]
     },
     "execution_count": 46,
     "metadata": {},
     "output_type": "execute_result"
    }
   ],
   "source": [
    "n_val = int(n * 0.2)\n",
    "n_test = int(n * 0.2)\n",
    "n_train = n - n_val - n_test\n",
    "\n",
    "n, n_test + n_val + n_train # test the same rows to make sure"
   ]
  },
  {
   "cell_type": "code",
   "execution_count": 48,
   "id": "edcf7462",
   "metadata": {},
   "outputs": [],
   "source": [
    "df_train = df.iloc[indices[ : n_train]]\n",
    "df_val = df.iloc[indices[n_train : n_train + n_val]] \n",
    "df_test = df.iloc[indices[n_train + n_val :]]"
   ]
  },
  {
   "cell_type": "code",
   "execution_count": 49,
   "id": "0846216a",
   "metadata": {},
   "outputs": [
    {
     "data": {
      "text/plain": [
       "(1940, 5824, 1940)"
      ]
     },
     "execution_count": 49,
     "metadata": {},
     "output_type": "execute_result"
    }
   ],
   "source": [
    "# check each part\n",
    "n_test, n_train, n_val"
   ]
  },
  {
   "cell_type": "markdown",
   "id": "dbd20f54",
   "metadata": {},
   "source": [
    "Question 3\n",
    "\n",
    "    We need to deal with missing values for the column from Q1.\n",
    "    We have two options: fill it with 0 or with the mean of this variable.\n",
    "    Try both options. For each, train a linear regression model without regularization using the code from the lessons.\n",
    "    For computing the mean, use the training only!\n",
    "    Use the validation dataset to evaluate the models and compare the RMSE of each option.\n",
    "    Round the RMSE scores to 2 decimal digits using round(score, 2)\n",
    "    Which option gives better RMSE?\n"
   ]
  },
  {
   "cell_type": "code",
   "execution_count": 56,
   "id": "1b274a51",
   "metadata": {},
   "outputs": [
    {
     "name": "stdout",
     "output_type": "stream",
     "text": [
      "RMSE fill 0: 2.65\n",
      "RMSE fill mean: 2.64\n"
     ]
    }
   ],
   "source": [
    "feature = 'horsepower'\n",
    "target = 'fuel_efficiency_mpg'\n",
    "\n",
    "y_train = df_train[target].values\n",
    "y_val = df_val[target].values\n",
    "\n",
    "# Option 1: Fill missing with 0\n",
    "X_train_0 = df_train[[feature]].fillna(0).values\n",
    "X_val_0 = df_val[[feature]].fillna(0).values\n",
    "\n",
    "# Linear Regression (normal equation)\n",
    "def train_linear_regression(X, y):\n",
    "    X = np.array(X)\n",
    "    y = np.array(y)\n",
    "    ones = np.ones((X.shape[0], 1))\n",
    "    X = np.hstack([ones, X])\n",
    "    w_full = np.linalg.pinv(X.T.dot(X)).dot(X.T).dot(y)\n",
    "    return w_full[0], w_full[1:]\n",
    "\n",
    "w0_0, w_0 = train_linear_regression(X_train_0, y_train)\n",
    "\n",
    "# Predict\n",
    "y_pred_val_0 = w0_0 + X_val_0.dot(w_0)\n",
    "\n",
    "# RMSE\n",
    "def rmse(y, y_pred):\n",
    "    return np.sqrt(((y - y_pred)**2).mean())\n",
    "\n",
    "rmse_0 = round(rmse(y_val, y_pred_val_0), 2)\n",
    "print(\"RMSE fill 0:\", rmse_0)\n",
    "\n",
    "\n",
    "# Option 2: Fill missing with mean of train\n",
    "mean_hp = np.nanmean(df_train[feature])\n",
    "X_train_mean = df_train[[feature]].fillna(mean_hp).values\n",
    "X_val_mean = df_val[[feature]].fillna(mean_hp).values\n",
    "\n",
    "w0_mean, w_mean = train_linear_regression(X_train_mean, y_train)\n",
    "y_pred_val_mean = w0_mean + X_val_mean.dot(w_mean)\n",
    "rmse_mean = round(rmse(y_val, y_pred_val_mean), 2)\n",
    "print(\"RMSE fill mean:\", rmse_mean)\n"
   ]
  },
  {
   "cell_type": "markdown",
   "id": "b333ae9a",
   "metadata": {},
   "source": [
    "Question 4\n",
    "\n",
    "    Now let's train a regularized linear regression.\n",
    "    For this question, fill the NAs with 0.\n",
    "    Try different values of r from this list: [0, 0.01, 0.1, 1, 5, 10, 100].\n",
    "    Use RMSE to evaluate the model on the validation dataset.\n",
    "    Round the RMSE scores to 2 decimal digits.\n",
    "    Which r gives the best RMSE?\n"
   ]
  },
  {
   "cell_type": "code",
   "execution_count": 59,
   "id": "d7ad8f9a",
   "metadata": {},
   "outputs": [
    {
     "name": "stdout",
     "output_type": "stream",
     "text": [
      "r=0, RMSE=2.65\n",
      "r=0.01, RMSE=2.65\n",
      "r=0.1, RMSE=2.65\n",
      "r=1, RMSE=2.65\n",
      "r=5, RMSE=2.65\n",
      "r=10, RMSE=2.65\n",
      "r=100, RMSE=2.73\n",
      "\n",
      "Best r: 0 with RMSE: 2.65\n"
     ]
    }
   ],
   "source": [
    "# fill missing with 0\n",
    "X_train = df_train[[feature]].fillna(0).values\n",
    "X_val = df_val[[feature]].fillna(0).values\n",
    "\n",
    "# linear Regression function with regularization\n",
    "def train_linear_regression_reg(X, y, r=0.0):\n",
    "    X = np.array(X)\n",
    "    y = np.array(y)\n",
    "    \n",
    "    # add column 1 for bias\n",
    "    ones = np.ones((X.shape[0], 1))\n",
    "    X = np.hstack([ones, X])\n",
    "    \n",
    "    XTX = X.T.dot(X)\n",
    "    XTX += r * np.eye(XTX.shape[0])  # regularization\n",
    "    w_full = np.linalg.pinv(XTX).dot(X.T).dot(y)\n",
    "    \n",
    "    return w_full[0], w_full[1:]\n",
    "\n",
    "# list r value\n",
    "r_list = [0, 0.01, 0.1, 1, 5, 10, 100]\n",
    "\n",
    "best_rmse = float('inf')\n",
    "best_r = None\n",
    "\n",
    "for r in r_list:\n",
    "    w0, w = train_linear_regression_reg(X_train, y_train, r)\n",
    "    y_pred_val = w0 + X_val.dot(w)\n",
    "    score = round(rmse(y_val, y_pred_val), 2)\n",
    "    print(f\"r={r}, RMSE={score}\")\n",
    "    \n",
    "    # save the best value\n",
    "    if score < best_rmse or (score == best_rmse and r < best_r):\n",
    "        best_rmse = score\n",
    "        best_r = r\n",
    "\n",
    "print(f\"\\nBest r: {best_r} with RMSE: {best_rmse}\")"
   ]
  },
  {
   "cell_type": "markdown",
   "id": "86b0502f",
   "metadata": {},
   "source": [
    "Question 5\n",
    "\n",
    "    We used seed 42 for splitting the data. Let's find out how selecting the seed influences our score.\n",
    "    Try different seed values: [0, 1, 2, 3, 4, 5, 6, 7, 8, 9].\n",
    "    For each seed, do the train/validation/test split with 60%/20%/20% distribution.\n",
    "    Fill the missing values with 0 and train a model without regularization.\n",
    "    For each seed, evaluate the model on the validation dataset and collect the RMSE scores.\n",
    "    What's the standard deviation of all the scores? To compute the standard deviation, use np.std.\n",
    "    Round the result to 3 decimal digits (round(std, 3))\n"
   ]
  },
  {
   "cell_type": "code",
   "execution_count": 60,
   "id": "dadbb775",
   "metadata": {},
   "outputs": [
    {
     "name": "stdout",
     "output_type": "stream",
     "text": [
      "RMSE for each seed: [np.float64(2.6547506716440368), np.float64(2.6538455698673324), np.float64(2.6544361833959753), np.float64(2.6534757751332423), np.float64(2.654496666830574), np.float64(2.653953145255802), np.float64(2.655168959439953), np.float64(2.6534743525592512), np.float64(2.653779555357022), np.float64(2.6543157925900758)]\n",
      "Standard deviation of RMSEs: 0.001\n"
     ]
    }
   ],
   "source": [
    "seeds = list(range(10))\n",
    "rmse_list = []\n",
    "\n",
    "for seed in seeds:\n",
    "    # shuffle indices\n",
    "    np.random.seed(seed)\n",
    "    idx = np.arange(len(df))\n",
    "    np.random.shuffle(idx)\n",
    "    \n",
    "    # split sizes\n",
    "    n = len(df)\n",
    "    n_train = int(n * 0.6)\n",
    "    n_val = int(n * 0.2)\n",
    "    n_test = n - n_train - n_val\n",
    "    \n",
    "    # split dataframe\n",
    "    df_train = df.iloc[idx[:n_train]].reset_index(drop=True)\n",
    "    df_val = df.iloc[idx[n_train:n_train+n_val]].reset_index(drop=True)\n",
    "    df_test = df.iloc[idx[n_train+n_val:]].reset_index(drop=True)\n",
    "    \n",
    "    # prepare X\n",
    "    X_train = df_train[[feature]].fillna(0).values\n",
    "    X_val = df_val[[feature]].fillna(0).values\n",
    "    \n",
    "    # train linear regression\n",
    "    w0, w = train_linear_regression(X_train, y_train)\n",
    "    \n",
    "    # predict on validation\n",
    "    y_pred_val = w0 + X_val.dot(w)\n",
    "    rmse_val = rmse(y_val, y_pred_val)\n",
    "    rmse_list.append(rmse_val)\n",
    "\n",
    "# standard deviation of RMSEs\n",
    "std_rmse = round(np.std(rmse_list), 3)\n",
    "print(\"RMSE for each seed:\", rmse_list)\n",
    "print(\"Standard deviation of RMSEs:\", std_rmse)\n"
   ]
  },
  {
   "cell_type": "markdown",
   "id": "3fd67d42",
   "metadata": {},
   "source": [
    "Question 6\n",
    "\n",
    "    Split the dataset like previously, use seed 9.\n",
    "    Combine train and validation datasets.\n",
    "    Fill the missing values with 0 and train a model with r=0.001.\n",
    "    What's the RMSE on the test dataset?\n"
   ]
  },
  {
   "cell_type": "code",
   "execution_count": 63,
   "id": "36cdda74",
   "metadata": {},
   "outputs": [
    {
     "name": "stdout",
     "output_type": "stream",
     "text": [
      "RMSE on test set: 2.55\n"
     ]
    }
   ],
   "source": [
    "# shuffle with seed 9\n",
    "np.random.seed(9)\n",
    "idx = np.arange(len(df))\n",
    "np.random.shuffle(idx)\n",
    "\n",
    "n = len(df)\n",
    "n_train = int(n * 0.6)\n",
    "n_val   = int(n * 0.2)\n",
    "n_test  = n - n_train - n_val \n",
    "\n",
    "# split dataset\n",
    "df_train = df.iloc[idx[:n_train]].reset_index(drop=True)\n",
    "df_val   = df.iloc[idx[n_train:n_train+n_val]].reset_index(drop=True)\n",
    "df_test  = df.iloc[idx[n_train+n_val:n_train+n_val+n_test]].reset_index(drop=True)\n",
    "\n",
    "# target (y)\n",
    "y_train = df_train.fuel_efficiency_mpg.values\n",
    "y_val   = df_val.fuel_efficiency_mpg.values\n",
    "y_test  = df_test.fuel_efficiency_mpg.values\n",
    "\n",
    "# combine train + validation\n",
    "df_full_train = pd.concat([df_train, df_val]).reset_index(drop=True)\n",
    "y_full_train = np.concatenate([y_train, y_val])\n",
    "\n",
    "# prepare X\n",
    "X_full_train = df_full_train[[feature]].fillna(0).values\n",
    "X_test       = df_test[[feature]].fillna(0).values\n",
    "\n",
    "# train regularized linear regression function\n",
    "def train_linear_regression_reg(X, y, r=0.001):\n",
    "    ones = np.ones((X.shape[0], 1))\n",
    "    X = np.hstack([ones, X])\n",
    "    XTX = X.T.dot(X)\n",
    "    XTX = XTX + r * np.eye(XTX.shape[0])\n",
    "    XTX_inv = np.linalg.inv(XTX)\n",
    "    w_full = XTX_inv.dot(X.T).dot(y)\n",
    "    return w_full[0], w_full[1:]\n",
    "\n",
    "# rmse function\n",
    "def rmse(y, y_pred):\n",
    "    return np.sqrt(((y - y_pred) ** 2).mean())\n",
    "\n",
    "# train model\n",
    "w0, w = train_linear_regression_reg(X_full_train, y_full_train, r=0.001)\n",
    "\n",
    "# predict & calculate rmse in test set\n",
    "y_pred_test = w0 + X_test.dot(w)\n",
    "score_test = round(rmse(y_test, y_pred_test), 2)\n",
    "print(\"RMSE on test set:\", score_test)"
   ]
  }
 ],
 "metadata": {
  "kernelspec": {
   "display_name": "Python 3",
   "language": "python",
   "name": "python3"
  },
  "language_info": {
   "codemirror_mode": {
    "name": "ipython",
    "version": 3
   },
   "file_extension": ".py",
   "mimetype": "text/x-python",
   "name": "python",
   "nbconvert_exporter": "python",
   "pygments_lexer": "ipython3",
   "version": "3.13.6"
  }
 },
 "nbformat": 4,
 "nbformat_minor": 5
}
